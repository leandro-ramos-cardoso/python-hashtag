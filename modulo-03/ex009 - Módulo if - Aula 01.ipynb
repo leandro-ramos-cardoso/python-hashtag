{
 "cells": [
  {
   "cell_type": "markdown",
   "metadata": {},
   "source": [
    "# Condições no Python -> If\n",
    "\n",
    "## Estrutura:\n",
    "\n",
    "### Uso mais simples:"
   ]
  },
  {
   "cell_type": "raw",
   "metadata": {},
   "source": [
    "if condição:\n",
    "    o que fazer caso a condição seja verdadeira"
   ]
  },
  {
   "cell_type": "markdown",
   "metadata": {},
   "source": [
    "### Exemplo Real (informações 100% hipotéticas e inventadas):\n",
    "\n",
    "Digamos que você trabalha na Amazon (que tem centenas de milhares, se não milhões de produtos) e está analisando o resultado de vendas dos produtos.\n",
    "\n",
    "Você precisa criar um programa que vai analisar o resultado de vendas dos produtos da Amazon em um mês. Para simplificar vamos pensar em um único produto: um Iphone.\n",
    "\n",
    "Meta de Vendas do Iphone = 50.000 unidades<br>\n",
    "Quantidade vendida no Mês = 65.300 unidades\n",
    "\n",
    "O seu programa deve avisar (usaremos o print por enquanto) caso o produto tenha batido a meta do mês. Então devemos fazer:<br>\n",
    "- Caso o produto tenha batido a meta, devemos exibir a mensagem: \"Batemos a meta de vendas de Iphone, vendemos {} unidades\" \n",
    "- Se ele não bateu a meta do mês, o seu programa não deve fazer nada"
   ]
  },
  {
   "cell_type": "code",
   "execution_count": 3,
   "metadata": {},
   "outputs": [
    {
     "name": "stdout",
     "output_type": "stream",
     "text": [
      "Batemos a meta de vendas de Iphone, vendemos 65300 unidades.\n"
     ]
    }
   ],
   "source": [
    "meta = 50000\n",
    "qtd_venda = 65300\n",
    "\n",
    "if qtd_venda >= meta:\n",
    "    print('Batemos a meta de vendas de Iphone, vendemos {} unidades.'.format(qtd_venda))"
   ]
  },
  {
   "cell_type": "markdown",
   "metadata": {},
   "source": [
    "### Tratando a condição falsa:\n",
    "Quando usamos o if, nem sempre queremos apenas analisar o caso verdadeiro, em boa parte das vezes queremos fazer alguma coisa caso a condição seja verdadeira e fazer outra coisa caso a condição seja falsa.\n",
    "\n",
    "Nesse caso usaremos:"
   ]
  },
  {
   "cell_type": "raw",
   "metadata": {},
   "source": [
    "if condição:\n",
    "    o que eu quero fazer caso a condição seja verdadeira\n",
    "else:\n",
    "    o que eu quero fazer caso a condição seja falsa"
   ]
  },
  {
   "cell_type": "markdown",
   "metadata": {},
   "source": [
    "Voltando ao nosso Exemplo Real da Amazon e do Iphone, agora nossa programa deve avisar nos 2 casos:\n",
    "- Caso o produto tenha batido a meta, devemos exibir a mensagem: \"Batemos a meta de vendas de Iphone, vendemos {} unidades\" \n",
    "- Se ele não bateu a meta do mês, devemos exibir a mensagem: \"Infelizmente não batemos a meta, vendemos {} unidades. A meta era de {} unidades\""
   ]
  },
  {
   "cell_type": "code",
   "execution_count": 9,
   "metadata": {},
   "outputs": [
    {
     "name": "stdout",
     "output_type": "stream",
     "text": [
      "Batemos a meta de vendas de Iphone, vendemos 50000 unidades.\n"
     ]
    }
   ],
   "source": [
    "meta = 50000\n",
    "qtd_venda = 50000\n",
    "\n",
    "if qtd_venda >= meta:\n",
    "    print('Batemos a meta de vendas de Iphone, vendemos {} unidades.'.format(qtd_venda))\n",
    "else:\n",
    "    print('Infelizmente não batemos a meta, vendemos {} unidades. A meta era de {} unidades.'.format(qtd_venda, meta))\n",
    "    print('Para bater a meta ficou faltando {} unidades.'.format(meta - qtd_venda))"
   ]
  },
  {
   "cell_type": "markdown",
   "metadata": {},
   "source": [
    "### Exercicios complementares"
   ]
  },
  {
   "cell_type": "code",
   "execution_count": 6,
   "metadata": {},
   "outputs": [
    {
     "name": "stdout",
     "output_type": "stream",
     "text": [
      "Digite um valor: 10\n",
      "Digite outro valor: 10\n",
      "10 é maior que 10.\n",
      "igual\n"
     ]
    }
   ],
   "source": [
    "# 1) Escreva um programa para ler 2 valores (considere que não serão informados valores iguais) e escrever o maior deles.\n",
    "\n",
    "a = int(input('Digite um valor: '))\n",
    "b = int(input('Digite outro valor: '))\n",
    "\n",
    "if a > b:\n",
    "    print('{} é maior que {}.'.format(a, b))\n",
    "else:\n",
    "    print('{} é maior que {}.'.format(b, a))\n",
    "if a == b:\n",
    "    print('igual')"
   ]
  },
  {
   "cell_type": "code",
   "execution_count": 17,
   "metadata": {},
   "outputs": [
    {
     "name": "stdout",
     "output_type": "stream",
     "text": [
      "Informe seu ano de nascimento: 1987\n",
      "Você poderá votar esse ano, pois possui 35 anos.\n"
     ]
    }
   ],
   "source": [
    "# 2) Escreva um programa para ler o ano de nascimento de uma pessoa e escrever uma mensagem que diga se ela poderá ou não \n",
    "# votar este ano (não é necessário considerar o mês em que ela nasceu).\n",
    "\n",
    "ano = int(input('Informe seu ano de nascimento: '))\n",
    "\n",
    "if ano <= 2004:\n",
    "    print('Você poderá votar esse ano, pois possui {} anos.'.format(2022 - ano))\n",
    "else:\n",
    "    print('Você não poderá votar esse ano, pois possui {} anos.'.format(2022 - ano))"
   ]
  },
  {
   "cell_type": "code",
   "execution_count": 27,
   "metadata": {},
   "outputs": [
    {
     "name": "stdout",
     "output_type": "stream",
     "text": [
      "Digite sua senha: 1202\n",
      "ACESSO NEGADO\n"
     ]
    }
   ],
   "source": [
    "# 3) Escreva um programa que verifique a validade de uma senha fornecida pelo usuário. A senha válida é o número 1234. \n",
    "# Devem ser impressas as seguintes mensagens: \n",
    "# ACESSO PERMITIDO caso a senha seja válida. \n",
    "# ACESSO NEGADO caso a senha seja inválida.\n",
    "\n",
    "login = int(input('Digite sua senha: '))\n",
    "\n",
    "if login == 1234:\n",
    "    print('ACESSO PERMITIDO')\n",
    "else:\n",
    "    print('ACESSO NEGADO')"
   ]
  },
  {
   "cell_type": "code",
   "execution_count": 39,
   "metadata": {},
   "outputs": [
    {
     "name": "stdout",
     "output_type": "stream",
     "text": [
      "Informe a quantidade de maças compradas: 1\n",
      "Foi comprado 1 maçãs, totalizando R$ 0.30.\n"
     ]
    }
   ],
   "source": [
    "# 4) As maçãs custam R$ 0,30 cada se forem compradas menos do que uma dúzia, e R$ 0,25 se forem compradas pelo menos doze. \n",
    "# Escreva um programa que leia o número de maçãs compradas, calcule e escreva o valor total da compra.\n",
    "\n",
    "macas_compradas = int(input('Informe a quantidade de maças compradas: '))\n",
    "\n",
    "if macas_compradas < 12:\n",
    "    print('Foi comprado {} maçãs, totalizando R$ {:.2f}.'.format(macas_compradas, (0.30 * macas_compradas)))\n",
    "else:\n",
    "    print('Foi comprado {} maçãs, totalizando R$ {:.2f}'.format(macas_compradas, (0.25 * macas_compradas)))"
   ]
  },
  {
   "cell_type": "code",
   "execution_count": 37,
   "metadata": {},
   "outputs": [],
   "source": [
    "# 5) Escreva um programa para ler 3 valores inteiros (considere que não serão lidos valores iguais) e \n",
    "# escrevê-los em ordem crescente."
   ]
  },
  {
   "cell_type": "code",
   "execution_count": 49,
   "metadata": {},
   "outputs": [
    {
     "name": "stdout",
     "output_type": "stream",
     "text": [
      "Informe sua altura: 1.50\n",
      "Informe seu sexo: 3\n",
      "Código invalido.\n"
     ]
    }
   ],
   "source": [
    "# 6) Tendo como entrada a altura e o sexo (codificado da seguinte forma: 1:feminino 2:masculino) de uma pessoa, \n",
    "# construa um programa que calcule e imprima seu peso ideal, utilizando as seguintes\n",
    "# Fórmulas: - \n",
    "# para homens: (72.7 * Altura) – 58 \n",
    "# para mulheres: (62.1 * Altura) – 44.7\n",
    "\n",
    "altura = float(input('Informe sua altura: '))\n",
    "sexo = int(input('Informe seu sexo: '))\n",
    "\n",
    "if sexo == 1:\n",
    "    print('Peso ideal: {:.2f}Kg.'.format((72.7 * altura) - 58))\n",
    "else:\n",
    "    if sexo == 2:\n",
    "        print('Peso ideal: {:.2f}Kg.'.format((62.1 * altura) - 44.7))\n",
    "    else:\n",
    "        print('Código invalido.')"
   ]
  },
  {
   "cell_type": "code",
   "execution_count": null,
   "metadata": {},
   "outputs": [],
   "source": [
    "# 7) Escreva um programa para ler o número de lados de um polígono regular e a medida do lado (em cm). \n",
    "# Calcular e imprimir o seguinte:\n",
    "# •\tSe o número de lados for igual a 3 escrever TRIÂNGULO e o valor da área.\n",
    "# •\tSe o número de lados for igual a 4 escrever QUADRADO e o valor da sua área.\n",
    "# •\tSe o número de lados for igual a 5 escrever PENTÁGONO."
   ]
  },
  {
   "cell_type": "code",
   "execution_count": null,
   "metadata": {},
   "outputs": [],
   "source": [
    "# 8) Acrescente as seguintes mensagens à solução do exercício anterior conforme o caso.\n",
    "# •\tCaso o número de lados seja inferior a 3 escrever NÃO É UM POLÍGONO.\n",
    "# •\tCaso o número de lados seja superior a 5 escrever POLÍGONO NÃO IDENTIFICADO."
   ]
  },
  {
   "cell_type": "code",
   "execution_count": null,
   "metadata": {},
   "outputs": [],
   "source": [
    "# 9) Escreva um programa para ler 3 valores inteiros e escrever o maior deles. \n",
    "# Considere que o usuário não informará valores iguais."
   ]
  },
  {
   "cell_type": "code",
   "execution_count": null,
   "metadata": {},
   "outputs": [],
   "source": [
    "# 10) Escreva um programa que leia as medidas dos lados de um triângulo e escreva \n",
    "# se ele é Equilátero, Isósceles ou Escaleno. Sendo que:\n",
    "# •\tTriângulo Equilátero: possui os 3 lados iguais.\n",
    "# •\tTriângulo Isóscele: possui 2 lados iguais.\n",
    "# •\tTriângulo Escaleno: possui 3 lados diferentes"
   ]
  },
  {
   "cell_type": "code",
   "execution_count": null,
   "metadata": {},
   "outputs": [],
   "source": [
    "# 11) Escreva um programa que leia o valor de 3 ângulos de um triângulo e \n",
    "# escreva se o triângulo é Acutângulo, Retângulo ou Obtusângulo. Sendo que:\n",
    "\n",
    "# •\tTriângulo Retângulo: possui um ângulo reto. (igual a 90º)\n",
    "# •\tTriângulo Obtusângulo: possui um ângulo obtuso. (maior que90º)\n",
    "# •\tTriângulo Acutângulo: possui três ângulos agudos. (menor que 90º)"
   ]
  }
 ],
 "metadata": {
  "kernelspec": {
   "display_name": "Python 3 (ipykernel)",
   "language": "python",
   "name": "python3"
  },
  "language_info": {
   "codemirror_mode": {
    "name": "ipython",
    "version": 3
   },
   "file_extension": ".py",
   "mimetype": "text/x-python",
   "name": "python",
   "nbconvert_exporter": "python",
   "pygments_lexer": "ipython3",
   "version": "3.9.7"
  }
 },
 "nbformat": 4,
 "nbformat_minor": 4
}
