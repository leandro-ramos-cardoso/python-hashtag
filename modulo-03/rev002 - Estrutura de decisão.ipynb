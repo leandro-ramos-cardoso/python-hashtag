{
 "cells": [
  {
   "cell_type": "markdown",
   "id": "6c333cee",
   "metadata": {},
   "source": [
    "### Lista de exercicios sobre estrutura de decisão"
   ]
  },
  {
   "cell_type": "markdown",
   "id": "2d3846e6",
   "metadata": {},
   "source": [
    "1) Faça um Programa que peça dois números e imprima o maior deles."
   ]
  },
  {
   "cell_type": "code",
   "execution_count": 7,
   "id": "ffce6d69",
   "metadata": {},
   "outputs": [
    {
     "name": "stdout",
     "output_type": "stream",
     "text": [
      "Digite um número: 15145\n",
      "Digite outro número: 111\n",
      "O número 15145 é maior que o 111.\n"
     ]
    }
   ],
   "source": [
    "a = int(input('Digite um número: '))\n",
    "b = int(input('Digite outro número: '))\n",
    "\n",
    "if a > b:\n",
    "    print('O número {} é maior que o {}.'.format(a,b))\n",
    "else:\n",
    "    print('O número {} é maior que o {}.'.format(b,a))"
   ]
  },
  {
   "cell_type": "markdown",
   "id": "04e4da0c",
   "metadata": {},
   "source": [
    "2) Faça um Programa que peça um valor e mostre na tela se o valor é positivo ou negativo."
   ]
  },
  {
   "cell_type": "code",
   "execution_count": 11,
   "id": "fa8aabea",
   "metadata": {},
   "outputs": [
    {
     "name": "stdout",
     "output_type": "stream",
     "text": [
      "Digite um número: -239\n",
      "-239 é um valor negativo.\n"
     ]
    }
   ],
   "source": [
    "x = int(input('Digite um número: '))\n",
    "\n",
    "if x < 0:\n",
    "    print('{} é um valor negativo.'.format(x))\n",
    "else:\n",
    "    print('{} é um valor positivo.'.format(x))"
   ]
  },
  {
   "cell_type": "markdown",
   "id": "241fedb6",
   "metadata": {},
   "source": [
    "3) Faça um Programa que verifique se uma letra digitada é \"F\" ou \"M\". Conforme a letra escrever:\n",
    "F - Feminino, M - Masculino, Sexo Inválido."
   ]
  },
  {
   "cell_type": "code",
   "execution_count": 22,
   "id": "cd4d0a3b",
   "metadata": {},
   "outputs": [
    {
     "name": "stdout",
     "output_type": "stream",
     "text": [
      "Informe o sexo (F/M): ff\n",
      "Sexo Inválido\n"
     ]
    }
   ],
   "source": [
    "sexo = input('Informe o sexo (F/M): ')\n",
    "\n",
    "if (sexo == 'f') or (sexo == 'F'):\n",
    "    print('Feminino')\n",
    "elif (sexo == 'm') or (sexo == 'M'):\n",
    "    print('Masculino')\n",
    "else:\n",
    "    print('Sexo Inválido')"
   ]
  },
  {
   "cell_type": "markdown",
   "id": "ef49686e",
   "metadata": {},
   "source": [
    "4) Faça um Programa que verifique se uma letra digitada é vogal ou consoante."
   ]
  },
  {
   "cell_type": "code",
   "execution_count": 34,
   "id": "84a845a3",
   "metadata": {
    "scrolled": true
   },
   "outputs": [
    {
     "name": "stdout",
     "output_type": "stream",
     "text": [
      "Digite algo: f\n",
      "Consoante\n"
     ]
    }
   ],
   "source": [
    "z = input('Digite algo: ')\n",
    "\n",
    "if z == 'a' or z == 'e' or z == 'i' or z == 'o' or z == 'u':\n",
    "    print('Vogal')\n",
    "else:\n",
    "    print('Consoante')"
   ]
  },
  {
   "cell_type": "markdown",
   "id": "93e9f5cd",
   "metadata": {},
   "source": [
    "5) Faça um programa para a leitura de duas notas parciais de um aluno. O programa deve calcular a média alcançada por aluno \n",
    "e apresentar:\n",
    "A mensagem \"Aprovado\", se a média alcançada for maior ou igual a sete;\n",
    "A mensagem \"Reprovado\", se a média for menor do que sete;\n",
    "A mensagem \"Aprovado com Distinção\", se a média for igual a dez."
   ]
  },
  {
   "cell_type": "code",
   "execution_count": 43,
   "id": "79ba679c",
   "metadata": {},
   "outputs": [
    {
     "name": "stdout",
     "output_type": "stream",
     "text": [
      "Informe a primeira nota: 11\n",
      "Informe a segunda nota: 11\n",
      "Aprovado com média 11.0\n"
     ]
    }
   ],
   "source": [
    "n1 = float(input('Informe a primeira nota: '))\n",
    "n2 = float(input('Informe a segunda nota: '))\n",
    "m = (n1 + n2) / 2\n",
    "\n",
    "if m >= 7:\n",
    "    print('Aprovado com média {}'.format(m))\n",
    "elif m < 7:\n",
    "    print('Reprovado com média {}'.format(m))\n",
    "elif m == 10:\n",
    "    print('Aprovado com Distinção')\n",
    "elif m > 10:\n",
    "    print('Invalido')"
   ]
  },
  {
   "cell_type": "markdown",
   "id": "76464d17",
   "metadata": {},
   "source": [
    "6) Faça um Programa que leia três números e mostre o maior deles."
   ]
  },
  {
   "cell_type": "code",
   "execution_count": 50,
   "id": "92a75639",
   "metadata": {
    "scrolled": false
   },
   "outputs": [
    {
     "name": "stdout",
     "output_type": "stream",
     "text": [
      "Informe um número: 10\n",
      "Informe outro número: 55\n",
      "Informe mais um número: 598\n",
      "O maior número é o 598.\n",
      "O menor número é o 10.\n"
     ]
    }
   ],
   "source": [
    "a = int(input('Informe um número: '))\n",
    "b = int(input('Informe outro número: '))\n",
    "c = int(input('Informe mais um número: '))\n",
    "\n",
    "# Maior\n",
    "if (a > b) and (a > c):\n",
    "    print('O maior número é o {}.'.format(a))\n",
    "\n",
    "if (b > a) and (b > c):\n",
    "    print('O maior número é o {}.'.format(b))\n",
    "    \n",
    "if (c > a) and (c > b):\n",
    "    print('O maior número é o {}.'.format(c))\n",
    "    \n",
    "# Menor\n",
    "if (a < b) and (a < c):\n",
    "    print('O menor número é o {}.'.format(a))\n",
    "\n",
    "if (b < a) and (b < c):\n",
    "    print('O menor número é o {}.'.format(b))\n",
    "    \n",
    "if (c < a) and (c < b):\n",
    "    print('O menor número é o {}.'.format(c))"
   ]
  },
  {
   "cell_type": "code",
   "execution_count": 55,
   "id": "8d277e9f",
   "metadata": {},
   "outputs": [
    {
     "name": "stdout",
     "output_type": "stream",
     "text": [
      "Informe um número: 1556\n",
      "Informe outro número: 54\n",
      "Informe mais um número: 1\n",
      "MAIOR: 1556\n",
      "MENOR: 1\n"
     ]
    }
   ],
   "source": [
    "a = int(input('Informe um número: '))\n",
    "b = int(input('Informe outro número: '))\n",
    "c = int(input('Informe mais um número: '))\n",
    "\n",
    "# MAIOR\n",
    "maior = a\n",
    "\n",
    "if (b > maior):\n",
    "    maior = b\n",
    "    \n",
    "if (c > maior):\n",
    "    maior = c\n",
    "\n",
    "print('MAIOR: {}'.format(maior))\n",
    "\n",
    "# MENOR\n",
    "\n",
    "menor = a\n",
    "\n",
    "if (b < menor):\n",
    "    menor = b\n",
    "\n",
    "if (c < menor):\n",
    "    menor = c\n",
    "    \n",
    "print('MENOR: {}'.format(menor))"
   ]
  },
  {
   "cell_type": "markdown",
   "id": "325d514a",
   "metadata": {},
   "source": [
    "7) Faça um programa que pergunte o preço de três produtos e informe qual produto você deve comprar, sabendo que a decisão é sempre pelo mais barato."
   ]
  },
  {
   "cell_type": "code",
   "execution_count": 60,
   "id": "f13d1da5",
   "metadata": {},
   "outputs": [
    {
     "name": "stdout",
     "output_type": "stream",
     "text": [
      "Informe o preço do produto 1: R$ 150156\n",
      "Informe o preço do produto 2: R$ 15\n",
      "Informe o preço do produto 3: R$ 456\n",
      "\n",
      "O produto mais barato esta custando R$ 15.00\n"
     ]
    }
   ],
   "source": [
    "prod1 = float(input('Informe o preço do produto 1: R$ '))\n",
    "prod2 = float(input('Informe o preço do produto 2: R$ '))\n",
    "prod3 = float(input('Informe o preço do produto 3: R$ '))\n",
    "\n",
    "# Definindo o mais barato\n",
    "barato = prod1\n",
    "\n",
    "if (prod2 < barato):\n",
    "    barato = prod2\n",
    "    \n",
    "if (prod3 < barato):\n",
    "    barato = prod3\n",
    "\n",
    "print()\n",
    "print('O produto mais barato esta custando R$ {:.2f}'.format(barato))"
   ]
  },
  {
   "cell_type": "markdown",
   "id": "4423879e",
   "metadata": {},
   "source": [
    "8) Faça um Programa que leia três números e mostre-os em ordem decrescente. FALTA"
   ]
  },
  {
   "cell_type": "code",
   "execution_count": 67,
   "id": "469575f7",
   "metadata": {},
   "outputs": [
    {
     "name": "stdout",
     "output_type": "stream",
     "text": [
      "Digite um número: 1\n",
      "Digite um número: 2\n",
      "Digite um número: 3\n",
      "3\n"
     ]
    }
   ],
   "source": [
    "x = int(input('Digite um número: '))\n",
    "y = int(input('Digite um número: '))\n",
    "z = int(input('Digite um número: '))\n",
    "\n",
    "maiorr = x\n",
    "\n",
    "if (y > maiorr):\n",
    "    maiorr = y\n",
    "    \n",
    "if (z > maiorr):\n",
    "    maiorr = z\n",
    "    \n",
    "print(maiorr)"
   ]
  },
  {
   "cell_type": "markdown",
   "id": "317c9839",
   "metadata": {},
   "source": [
    "9) Faça um Programa que pergunte em que turno você estuda. Peça para digitar M-matutino ou V-Vespertino ou N- Noturno. \n",
    "Imprima a mensagem \"Bom Dia!\", \"Boa Tarde!\" ou \"Boa Noite!\" ou \"Valor Inválido!\", conforme o caso."
   ]
  },
  {
   "cell_type": "code",
   "execution_count": 71,
   "id": "be085570",
   "metadata": {},
   "outputs": [
    {
     "name": "stdout",
     "output_type": "stream",
     "text": [
      "M - Matutino\n",
      "V - Vespertino\n",
      "N - Noturno\n",
      "Qual o turno você estuda? (M/V/N)V\n",
      "Boa tarde!\n"
     ]
    }
   ],
   "source": [
    "print('M - Matutino')\n",
    "print('V - Vespertino')\n",
    "print('N - Noturno')\n",
    "\n",
    "turno = input('Qual o turno você estuda? (M/V/N)')\n",
    "\n",
    "if turno == 'm' or turno == 'M':\n",
    "    print('Bom dia!')\n",
    "elif turno == 'v' or turno == 'V':\n",
    "    print('Boa tarde!')\n",
    "elif turno == 'n' or turno == 'N':\n",
    "    print('Boa noite!')"
   ]
  },
  {
   "cell_type": "markdown",
   "id": "f0409289",
   "metadata": {},
   "source": [
    "10) As Organizações Tabajara resolveram dar um aumento de salário aos seus colaboradores e lhe contraram para desenvolver o programa que calculará os reajustes.\n",
    "\n",
    "    Faça um programa que recebe o salário de um colaborador e o reajuste segundo o seguinte critério, baseado no salário atual:\n",
    "    salários até R$ 280,00 (incluindo) : aumento de 20%\n",
    "    salários entre R$ 280,00 e R$ 700,00 : aumento de 15%\n",
    "    salários entre R$ 700,00 e R$ 1500,00 : aumento de 10%\n",
    "    salários de R$ 1500,00 em diante : aumento de 5% Após o aumento ser realizado, informe na tela:\n",
    "    o salário antes do reajuste;\n",
    "    o percentual de aumento aplicado;\n",
    "    o valor do aumento;\n",
    "    o novo salário, após o aumento."
   ]
  },
  {
   "cell_type": "code",
   "execution_count": 84,
   "id": "fd891cf4",
   "metadata": {
    "scrolled": true
   },
   "outputs": [
    {
     "name": "stdout",
     "output_type": "stream",
     "text": [
      "Informe o salário: R$ 250\n",
      "\n",
      "50.0\n",
      "Salario antes do reajuste: R$ 250.00\n",
      "Percentual de aumento: 20%\n",
      "Valor do aumento: 50.0\n",
      "Novo Salario: R$ 300.0\n"
     ]
    }
   ],
   "source": [
    "salario = float(input('Informe o salário: R$ '))\n",
    "\n",
    "print()\n",
    "\n",
    "if (salario <= 280):\n",
    "    bonus = salario * 0.20\n",
    "    print(bonus)\n",
    "    print('Salario antes do reajuste: R$ {:.2f}'.format(salario))\n",
    "    print('Percentual de aumento: {}'.format('20%'))\n",
    "    print('Valor do aumento: {}'.format(bonus))\n",
    "    print('Novo Salario: R$ {}'.format(bonus + salario))\n",
    "elif (salario > 280) and (salario <= 700):\n",
    "    bonus = salario * 0.15\n",
    "    print(bonus)\n",
    "    print('Salario antes do reajuste: R$ {:.2f}'.format(salario))\n",
    "    print('Percentual de aumento: {}'.format('15%'))\n",
    "    print('Valor do aumento: {}'.format(bonus))\n",
    "    print('Novo Salario: R$ {}'.format(bonus + salario))\n",
    "elif (salario > 700) and (salario <= 1500):\n",
    "    bonus = salario * 0.10\n",
    "    print(bonus)\n",
    "    print('Salario antes do reajuste: R$ {:.2f}'.format(salario))\n",
    "    print('Percentual de aumento: {}'.format('10%'))\n",
    "    print('Valor do aumento: {}'.format(bonus))\n",
    "    print('Novo Salario: R$ {}'.format(bonus + salario))\n",
    "elif (salario  > 1500):\n",
    "    bonus = salario * 0.05\n",
    "    print('Salario antes do reajuste: R$ {:.2f}'.format(salario))\n",
    "    print('Percentual de aumento: {}'.format('5%'))\n",
    "    print('Valor do aumento: {}'.format(bonus))\n",
    "    print('Novo Salario: R$ {}'.format(bonus + salario))"
   ]
  },
  {
   "cell_type": "markdown",
   "id": "38d35f46",
   "metadata": {},
   "source": [
    "11) Faça um programa para o cálculo de uma folha de pagamento, sabendo que os descontos são do Imposto de Renda, que depende do salário bruto (conforme tabela abaixo) e 3% para o Sindicato e que o FGTS corresponde a 11% do Salário Bruto, mas não é descontado (é a empresa que deposita). O Salário Líquido corresponde ao Salário Bruto menos os descontos. O programa deverá pedir ao usuário o valor da sua hora e a quantidade de horas trabalhadas no mês.\n",
    "\n",
    "    Desconto do IR:\n",
    "    Salário Bruto até 900 (inclusive) - isento\n",
    "    Salário Bruto até 1500 (inclusive) - desconto de 5%\n",
    "    Salário Bruto até 2500 (inclusive) - desconto de 10%\n",
    "    Salário Bruto acima de 2500 - desconto de 20% \n",
    "    \n",
    "    Imprima na tela as informações, dispostas conforme o exemplo abaixo. No exemplo o valor da hora é 5 e a quantidade de hora é 220."
   ]
  },
  {
   "cell_type": "markdown",
   "id": "3e1b72e9",
   "metadata": {},
   "source": [
    "12) Faça um Programa que leia um número e exiba o dia correspondente da semana. \n",
    "(1-Domingo, 2- Segunda, etc.), se digitar outro valor deve aparecer valor inválido."
   ]
  },
  {
   "cell_type": "code",
   "execution_count": 9,
   "id": "52a89498",
   "metadata": {},
   "outputs": [
    {
     "name": "stdout",
     "output_type": "stream",
     "text": [
      "Informe o numero da semana: 8\n",
      "Valor invalido\n"
     ]
    }
   ],
   "source": [
    "semana = int(input('Informe o numero da semana: '))\n",
    "\n",
    "if semana == 1:\n",
    "    print('Domingo')\n",
    "elif semana == 2:\n",
    "    print('Segunda')\n",
    "elif semana == 3:\n",
    "    print('Terça')\n",
    "elif semana == 4:\n",
    "    print('Quarta')\n",
    "elif semana == 5:\n",
    "    print('Quinta')\n",
    "elif semana == 6:\n",
    "    print('Sexta')\n",
    "elif semana == 7:\n",
    "    print('Sabado')\n",
    "else:\n",
    "    print('Valor invalido')"
   ]
  },
  {
   "cell_type": "markdown",
   "id": "ae1cab0b",
   "metadata": {},
   "source": [
    "13) Faça um programa que lê as duas notas parciais obtidas por um aluno numa disciplina ao longo de um semestre, e calcule a sua média. A atribuição de conceitos obedece à tabela abaixo:\n",
    "\n",
    "    Média de Aproveitamento  Conceito\n",
    "      Entre 9.0 e 10.0        A\n",
    "      Entre 7.5 e 9.0         B\n",
    "      Entre 6.0 e 7.5         C\n",
    "      Entre 4.0 e 6.0         D\n",
    "      Entre 4.0 e zero        E\n",
    "\n",
    "O algoritmo deve mostrar na tela as notas, a média, o conceito correspondente e a mensagem “APROVADO” se o conceito for A, B ou C ou “REPROVADO” se o conceito for D ou E."
   ]
  },
  {
   "cell_type": "code",
   "execution_count": 34,
   "id": "a27a522a",
   "metadata": {},
   "outputs": [
    {
     "name": "stdout",
     "output_type": "stream",
     "text": [
      "Informe primeira nota: 2\n",
      "Informe primeira nota: 3\n",
      "\n",
      "Conceito: E\n",
      "Nota 1: 2.0\n",
      "Nota 2: 3.0\n",
      "Média: 2.5\n",
      "REPROVADO\n"
     ]
    }
   ],
   "source": [
    "a = float(input('Informe primeira nota: '))\n",
    "b = float(input('Informe primeira nota: '))\n",
    "m = (a + b) / 2\n",
    "print()\n",
    "\n",
    "if (m >= 9) and (m <= 10):\n",
    "    print('Conceito: A')\n",
    "    print('Nota 1: {}'.format(a))\n",
    "    print('Nota 2: {}'.format(b))\n",
    "    print('Média: {}'.format(m))\n",
    "    print('APROVADO')\n",
    "elif (m >= 7.5) and (m <= 9):\n",
    "    print('Conceito: B')\n",
    "    print('Nota 1: {}'.format(a))\n",
    "    print('Nota 2: {}'.format(b))\n",
    "    print('Média: {}'.format(m))\n",
    "    print('APROVADO')\n",
    "elif (m >= 6) and (m <= 7.5):\n",
    "    print('Conceito: C')\n",
    "    print('Nota 1: {}'.format(a))\n",
    "    print('Nota 2: {}'.format(b))\n",
    "    print('Média: {}'.format(m))\n",
    "    print('APROVADO')\n",
    "elif (m >= 4) and (m <= 6):\n",
    "    print('Conceito: D')\n",
    "    print('Nota 1: {}'.format(a))\n",
    "    print('Nota 2: {}'.format(b))\n",
    "    print('Média: {}'.format(m))\n",
    "    print('REPROVADO')\n",
    "elif (m >= 0) and (m <= 4):\n",
    "    print('Conceito: E')\n",
    "    print('Nota 1: {}'.format(a))\n",
    "    print('Nota 2: {}'.format(b))\n",
    "    print('Média: {}'.format(m))\n",
    "    print('REPROVADO')"
   ]
  },
  {
   "cell_type": "markdown",
   "id": "55be5aa2",
   "metadata": {},
   "source": [
    "14) Faça um Programa que peça os 3 lados de um triângulo. O programa deverá informar se os valores podem ser um triângulo. Indique, caso os lados formem um triângulo, se o mesmo é: equilátero, isósceles ou escaleno.\n",
    "\n",
    "    Dicas:\n",
    "    Três lados formam um triângulo quando a soma de quaisquer dois lados for maior que o terceiro;\n",
    "    Triângulo Equilátero: três lados iguais;\n",
    "    Triângulo Isósceles: quaisquer dois lados iguais;\n",
    "    Triângulo Escaleno: três lados diferentes;"
   ]
  },
  {
   "cell_type": "code",
   "execution_count": 50,
   "id": "21efe4f2",
   "metadata": {},
   "outputs": [
    {
     "name": "stdout",
     "output_type": "stream",
     "text": [
      "Informe o primeiro lado: 25\n",
      "Informe o segundo lado: 1\n",
      "Informe o terceiro lado: 2\n",
      "As medidas passadas não formam um triângulo.\n"
     ]
    }
   ],
   "source": [
    "x = int(input('Informe o primeiro lado: '))\n",
    "y = int(input('Informe o segundo lado: '))\n",
    "z = int(input('Informe o terceiro lado: '))\n",
    "\n",
    "if (y + z) > x:\n",
    "    print('Forma um triangulo')\n",
    "    if (x == y) and (x == z):\n",
    "        print('Equilátero')\n",
    "    elif (x == y) or (x == z):\n",
    "        print('Isósceles')\n",
    "    elif (x != y) and (x != z):\n",
    "        print('Escaleno')\n",
    "else:\n",
    "    print('As medidas passadas não formam um triângulo.')"
   ]
  },
  {
   "cell_type": "markdown",
   "id": "0c080eee",
   "metadata": {},
   "source": [
    "### FALTA FINALIZAR\n",
    "15) Faça um programa que calcule as raízes de uma equação do segundo grau, na forma ax2 + bx + c. O programa deverá pedir os valores de a, b e c e fazer as consistências, informando ao usuário nas seguintes situações:\n",
    "\n",
    "    Se o usuário informar o valor de A igual a zero, a equação não é do segundo grau e o programa não deve fazer pedir os demais valores, sendo encerrado;\n",
    "    Se o delta calculado for negativo, a equação não possui raizes reais. Informe ao usuário e encerre o programa;\n",
    "    Se o delta calculado for igual a zero a equação possui apenas uma raiz real; informe-a ao usuário;\n",
    "    Se o delta for positivo, a equação possui duas raiz reais; informe-as ao usuário;"
   ]
  },
  {
   "cell_type": "code",
   "execution_count": 100,
   "id": "62fad8c9",
   "metadata": {
    "scrolled": true
   },
   "outputs": [
    {
     "name": "stdout",
     "output_type": "stream",
     "text": [
      "Informe o valor de a: 2\n",
      "Informe o valor de b: 8\n",
      "Informe o valor de c: 10\n",
      "A equação não possui raizes reais.\n"
     ]
    }
   ],
   "source": [
    "a = int(input('Informe o valor de a: '))\n",
    "b = int(input('Informe o valor de b: '))\n",
    "c = int(input('Informe o valor de c: '))\n",
    "delta =  (b ** 2) - (4*a*c)\n",
    "\n",
    "x1 = (-b + (delta ** 0.5)) / (2 * a)\n",
    "x2= (-b - (delta ** 0.5)) / (2 * a)\n",
    "   \n",
    "if delta < 0:\n",
    "    print('A equação não possui raizes reais.')\n",
    "else:\n",
    "    print()\n",
    "    print('Delta: {}'.format(delta))\n",
    "    print()\n",
    "    print('RAIZES')\n",
    "    print('=========')\n",
    "    print('Positivo: {:.2f}'.format(x1))\n",
    "    print('Negativo: {:.2f}'.format(x2))\n",
    "\n",
    "    print()\n",
    "    print('Resultado da Equação')\n",
    "    print('========================')\n",
    "\n",
    "    # ax²+bx+c=0\n",
    "    print('Resultado Positivo: {:.2f}'.format((a * (x1 ** 0.5)) + (b * x1) + c))\n",
    "    print('Resultado Negativo: {:.2f}'.format((a * (x2 ** 0.5)) + (b * x2) + c))"
   ]
  },
  {
   "cell_type": "markdown",
   "id": "8547f362",
   "metadata": {},
   "source": [
    "16) Faça um Programa que peça um número correspondente a um determinado ano e em seguida informe se este ano é ou não bissexto."
   ]
  },
  {
   "cell_type": "code",
   "execution_count": 110,
   "id": "0a3927ad",
   "metadata": {},
   "outputs": [
    {
     "name": "stdout",
     "output_type": "stream",
     "text": [
      "Digite o ano: 1600\n",
      "Bisexto\n"
     ]
    }
   ],
   "source": [
    "ano = int(input('Digite o ano: '))\n",
    "\n",
    "if (ano % 400 == 0) or (ano % 4 == 0) and (ano % 100 != 0):\n",
    "    print('Bisexto')\n",
    "else:\n",
    "    print('Não bisexto')\n",
    "\n",
    "# Um ano é bissexto se ele for divisível por 400 ou se ele for divisível por 4 e não por 100.\n",
    "\n",
    "# Bissexto:  1980, 1984, 1988, 1992, 1996 e 2000.\n",
    "# 1900 não foi bissexto, mas 1600 foi"
   ]
  },
  {
   "cell_type": "markdown",
   "id": "886ef324",
   "metadata": {},
   "source": [
    "17) Faça um Programa que peça uma data no formato dd/mm/aaaa e determine se a mesma é uma data válida."
   ]
  },
  {
   "cell_type": "code",
   "execution_count": null,
   "id": "0ebc0622",
   "metadata": {},
   "outputs": [],
   "source": []
  }
 ],
 "metadata": {
  "kernelspec": {
   "display_name": "Python 3 (ipykernel)",
   "language": "python",
   "name": "python3"
  },
  "language_info": {
   "codemirror_mode": {
    "name": "ipython",
    "version": 3
   },
   "file_extension": ".py",
   "mimetype": "text/x-python",
   "name": "python",
   "nbconvert_exporter": "python",
   "pygments_lexer": "ipython3",
   "version": "3.9.7"
  }
 },
 "nbformat": 4,
 "nbformat_minor": 5
}
