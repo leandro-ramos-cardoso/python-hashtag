{
 "cells": [
  {
   "cell_type": "code",
   "execution_count": 11,
   "id": "dd54c77f",
   "metadata": {},
   "outputs": [
    {
     "name": "stdout",
     "output_type": "stream",
     "text": [
      "Digite o seu cpf:    000.000.000-00\n",
      "00000000000\n"
     ]
    }
   ],
   "source": [
    "cpf = input('Digite o seu cpf: ')\n",
    "\n",
    "cpf = cpf.strip()\n",
    "cpf = cpf.replace('.', '')\n",
    "cpf = cpf.replace('-', '')\n",
    "\n",
    "if cpf.isnumeric() and len(cpf) == 11:\n",
    "    print(cpf)\n",
    "else:\n",
    "    print('Digite seu CPF corretamente e digite apenas números')"
   ]
  },
  {
   "cell_type": "code",
   "execution_count": 35,
   "id": "13f0cd34",
   "metadata": {},
   "outputs": [
    {
     "name": "stdout",
     "output_type": "stream",
     "text": [
      "Nome: leo\n",
      "Email: leogmail.com\n"
     ]
    }
   ],
   "source": [
    "nome = input('Nome: ')\n",
    "email = input('Email: ')\n",
    "\n",
    "if nome and email:\n",
    "    pos_a = email.find('@')\n",
    "    servidor = email[pos_a:]\n",
    "    if pos_a != -1 and '.' in servidor:\n",
    "        print('Cadastro concluido')\n",
    "else:\n",
    "    print('Email invalido')"
   ]
  },
  {
   "cell_type": "code",
   "execution_count": 45,
   "id": "e53ac7da",
   "metadata": {},
   "outputs": [
    {
     "name": "stdout",
     "output_type": "stream",
     "text": [
      "Nome: leo\n",
      "Email: l1@gmail.com\n",
      "Sucesso\n"
     ]
    }
   ],
   "source": [
    "nome = input('Nome: ')\n",
    "email = input('Email: ')\n",
    "\n",
    "if nome and email:\n",
    "    if '@' in email and '.' in email[email.find('@'):]:\n",
    "        print('Sucesso')\n",
    "    else:\n",
    "        print('Email invalido')\n",
    "else:\n",
    "    print('Erro')"
   ]
  },
  {
   "cell_type": "code",
   "execution_count": 12,
   "id": "09b16c85",
   "metadata": {},
   "outputs": [
    {
     "name": "stdout",
     "output_type": "stream",
     "text": [
      "L de leandro\n",
      "Tamanho do texto: 7 caracteres.\n",
      "Primeiro caractere: L\n",
      "Ultimo caractere: o\n",
      "an\n"
     ]
    }
   ],
   "source": [
    "nome = 'Leandro'\n",
    "\n",
    "if nome[0] == 'L':\n",
    "    print('L de leandro')\n",
    "    print('Tamanho do texto: {} caracteres.'.format(len(nome)))\n",
    "    print('Primeiro caractere: {}'.format(nome[0]))\n",
    "    print('Ultimo caractere: {}'.format(nome[-1]))\n",
    "    print(nome[2:4])\n",
    "else:\n",
    "    print('Erro')"
   ]
  },
  {
   "cell_type": "code",
   "execution_count": 17,
   "id": "02e3feb3",
   "metadata": {},
   "outputs": [
    {
     "name": "stdout",
     "output_type": "stream",
     "text": [
      "<class 'int'>\n",
      "O faturamento da loja foi de 2000\n"
     ]
    }
   ],
   "source": [
    "faturamento = 2000\n",
    "custo = 100\n",
    "lucro = faturamento - custo\n",
    "\n",
    "print(type(faturamento))\n",
    "\n",
    "print('O faturamento da loja foi de ' + str(faturamento))"
   ]
  },
  {
   "cell_type": "code",
   "execution_count": 18,
   "id": "cc2aa138",
   "metadata": {},
   "outputs": [
    {
     "name": "stdout",
     "output_type": "stream",
     "text": [
      "O faturamento da loja foi de 2000\n"
     ]
    }
   ],
   "source": [
    "faturamento = 2000\n",
    "custo = 100\n",
    "lucro = faturamento - custo\n",
    "\n",
    "print('O faturamento da loja foi de {}'.format(faturamento))"
   ]
  },
  {
   "cell_type": "code",
   "execution_count": 21,
   "id": "d3898bc1",
   "metadata": {},
   "outputs": [
    {
     "name": "stdout",
     "output_type": "stream",
     "text": [
      "Leandro ramos\n"
     ]
    }
   ],
   "source": [
    "texto = 'leandro ramos'\n",
    "\n",
    "print(texto.capitalize())"
   ]
  },
  {
   "cell_type": "code",
   "execution_count": 22,
   "id": "e2051697",
   "metadata": {},
   "outputs": [
    {
     "name": "stdout",
     "output_type": "stream",
     "text": [
      "leandro\n"
     ]
    }
   ],
   "source": [
    "texto = 'LEANDRO'\n",
    "\n",
    "print(texto.casefold())"
   ]
  },
  {
   "cell_type": "code",
   "execution_count": 26,
   "id": "706e9b83",
   "metadata": {},
   "outputs": [
    {
     "name": "stdout",
     "output_type": "stream",
     "text": [
      "True\n"
     ]
    }
   ],
   "source": [
    "texto = 'LEANDRO'\n",
    "\n",
    "print(texto.endswith('DRO'))"
   ]
  },
  {
   "cell_type": "code",
   "execution_count": 28,
   "id": "ba213a6e",
   "metadata": {},
   "outputs": [
    {
     "name": "stdout",
     "output_type": "stream",
     "text": [
      "2\n"
     ]
    }
   ],
   "source": [
    "texto = 'LEANDRO'\n",
    "\n",
    "print(texto.find('A'))"
   ]
  },
  {
   "cell_type": "code",
   "execution_count": 32,
   "id": "2b9db5be",
   "metadata": {},
   "outputs": [
    {
     "name": "stdout",
     "output_type": "stream",
     "text": [
      "É alfanumerico? True\n",
      "É numérico? False\n",
      "É alfabético? True\n"
     ]
    }
   ],
   "source": [
    "texto = 'Leandro'\n",
    "\n",
    "print('É alfanumerico? {}'.format(texto.isalnum()))\n",
    "print('É numérico? {}'.format(texto.isnumeric()))\n",
    "print('É alfabético? {}'.format(texto.isalpha()))"
   ]
  },
  {
   "cell_type": "code",
   "execution_count": 33,
   "id": "01787814",
   "metadata": {},
   "outputs": [
    {
     "name": "stdout",
     "output_type": "stream",
     "text": [
      "Leandra\n"
     ]
    }
   ],
   "source": [
    "texto = 'Leandro'\n",
    "\n",
    "print(texto.replace('o', 'a'))"
   ]
  },
  {
   "cell_type": "code",
   "execution_count": 35,
   "id": "cef5bcd0",
   "metadata": {},
   "outputs": [
    {
     "name": "stdout",
     "output_type": "stream",
     "text": [
      "['Leandro', 'Ramos', 'Cardoso']\n"
     ]
    }
   ],
   "source": [
    "texto = 'Leandro Ramos Cardoso'\n",
    "\n",
    "print(texto.split())"
   ]
  },
  {
   "cell_type": "code",
   "execution_count": 38,
   "id": "92f8fc6c",
   "metadata": {},
   "outputs": [
    {
     "name": "stdout",
     "output_type": "stream",
     "text": [
      "   Leandro Ramos Cardoso    \n",
      "Leandro Ramos Cardoso\n"
     ]
    }
   ],
   "source": [
    "texto = '   Leandro Ramos Cardoso    '\n",
    "\n",
    "print(texto)\n",
    "print(texto.strip())"
   ]
  },
  {
   "cell_type": "markdown",
   "id": "6bf54abc",
   "metadata": {},
   "source": [
    "#### REVISÃO EXERCICIOS"
   ]
  },
  {
   "cell_type": "code",
   "execution_count": 45,
   "id": "40c398aa",
   "metadata": {},
   "outputs": [
    {
     "name": "stdout",
     "output_type": "stream",
     "text": [
      "Insira seu CPF (digite apenas números)1a564708455\n",
      "Digite seu CPF corretamente e digite apenas números.\n"
     ]
    }
   ],
   "source": [
    "cpf = input('Insira seu CPF (digite apenas números)')\n",
    "\n",
    "if cpf.isnumeric() and (len(cpf) == 11):\n",
    "    print(cpf)\n",
    "else:\n",
    "    print('Digite seu CPF corretamente e digite apenas números.')"
   ]
  },
  {
   "cell_type": "code",
   "execution_count": 52,
   "id": "56e6b4c9",
   "metadata": {},
   "outputs": [
    {
     "name": "stdout",
     "output_type": "stream",
     "text": [
      "Insira seu CPF (digite apenas números)069.970.384-09\n",
      "CPF: 069.970.384-09\n"
     ]
    }
   ],
   "source": [
    "cpf = input('Insira seu CPF (digite apenas números)')\n",
    "\n",
    "cpf = cpf.strip()\n",
    "cpf = cpf.replace('.','')\n",
    "cpf = cpf.replace('-','')\n",
    "\n",
    "if cpf.isnumeric() and (len(cpf) == 11):\n",
    "    print('CPF: {}{}{}.{}{}{}.{}{}{}-{}{}'.format(*cpf))\n",
    "else:\n",
    "    print('Digite seu CPF corretamente e digite apenas números.')"
   ]
  },
  {
   "cell_type": "code",
   "execution_count": 70,
   "id": "8a3ef7c6",
   "metadata": {},
   "outputs": [
    {
     "name": "stdout",
     "output_type": "stream",
     "text": [
      "Digite seu nome: Leo\n",
      "Digite seu email: leo@gmail.com\n",
      "leo@gmail.com\n"
     ]
    }
   ],
   "source": [
    "nome = input('Digite seu nome: ')\n",
    "email = input('Digite seu email: ')\n",
    "\n",
    "#print(email.find('@'))\n",
    "\n",
    "if nome and email:\n",
    "    pos_a = email.find('@')\n",
    "    servidor = email[pos_a:]\n",
    "    if (pos_a != -1) and '.' in servidor:\n",
    "        print(email)\n",
    "    else:\n",
    "        print('Preencha os dados corretamente.')\n",
    "else:\n",
    "    print('Preencha os dados corretamente.')"
   ]
  },
  {
   "cell_type": "code",
   "execution_count": 74,
   "id": "42006562",
   "metadata": {},
   "outputs": [
    {
     "name": "stdout",
     "output_type": "stream",
     "text": [
      "============= CADASTRO DE EMAILS =============\n"
     ]
    }
   ],
   "source": [
    "texto = 'CADASTRO DE EMAILS'\n",
    "\n",
    "print('============= {:^15} ============='.format(texto))"
   ]
  },
  {
   "cell_type": "code",
   "execution_count": null,
   "id": "f9a7f131",
   "metadata": {},
   "outputs": [],
   "source": []
  }
 ],
 "metadata": {
  "kernelspec": {
   "display_name": "Python 3 (ipykernel)",
   "language": "python",
   "name": "python3"
  },
  "language_info": {
   "codemirror_mode": {
    "name": "ipython",
    "version": 3
   },
   "file_extension": ".py",
   "mimetype": "text/x-python",
   "name": "python",
   "nbconvert_exporter": "python",
   "pygments_lexer": "ipython3",
   "version": "3.9.7"
  }
 },
 "nbformat": 4,
 "nbformat_minor": 5
}
