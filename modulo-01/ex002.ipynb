{
 "cells": [
  {
   "cell_type": "markdown",
   "id": "eb7d0e7a",
   "metadata": {},
   "source": [
    "## Operações Matématicas"
   ]
  },
  {
   "cell_type": "markdown",
   "id": "a4d3cf2b",
   "metadata": {},
   "source": [
    "Ordem de precedência\n",
    "\n",
    "()\n",
    "**\n",
    "* / // %\n",
    "+ - "
   ]
  },
  {
   "cell_type": "code",
   "execution_count": 1,
   "id": "37a2ba74",
   "metadata": {},
   "outputs": [
    {
     "name": "stdout",
     "output_type": "stream",
     "text": [
      "5\n"
     ]
    }
   ],
   "source": [
    "a = 2\n",
    "b = 3\n",
    "\n",
    "# Soma\n",
    "print(a + b)"
   ]
  },
  {
   "cell_type": "code",
   "execution_count": 16,
   "id": "78fa6292",
   "metadata": {},
   "outputs": [
    {
     "name": "stdout",
     "output_type": "stream",
     "text": [
      "====================\n",
      "Operados Numéricos\n",
      "====================\n",
      "Digite um número: 2\n",
      "Digite outro número: 3\n",
      "A soma entre 2 e 3 vale 5.\n",
      "A subtração entre 2 e 3 vale -1.\n",
      "2 elevado a 3 vale 8.\n",
      "A multiplicação entre 2 e 3 vale 6.\n",
      "A divisão entre 2 e 3 vale 1.\n",
      "A divisão inteira entre 2 e 3 vale 0.\n",
      "O resto da divisão entre 2 e 3 vale 2.\n"
     ]
    }
   ],
   "source": [
    "print('='*20)\n",
    "print('Operados Numéricos')\n",
    "print('='*20)\n",
    "\n",
    "a = int(input('Digite um número: '))\n",
    "b = int(input('Digite outro número: '))\n",
    "\n",
    "print('A soma entre {} e {} vale {}.'.format(a, b, a + b))\n",
    "print('A subtração entre {} e {} vale {}.'.format(a, b, a - b))\n",
    "print('{} elevado a {} vale {}.'.format(a, b, a ** b))\n",
    "print('A multiplicação entre {} e {} vale {}.'.format(a, b, a * b))\n",
    "print('A divisão entre {} e {} vale {:.0f}.'.format(a, b, a / b))\n",
    "print('A divisão inteira entre {} e {} vale {}.'.format(a, b, a // b))\n",
    "print('O resto da divisão entre {} e {} vale {}.'.format(a, b, a % b))"
   ]
  },
  {
   "cell_type": "code",
   "execution_count": 13,
   "id": "ff0b6042",
   "metadata": {},
   "outputs": [
    {
     "name": "stdout",
     "output_type": "stream",
     "text": [
      "4\n"
     ]
    }
   ],
   "source": [
    "# O paratenses nesse caso, será feito primeiro.\n",
    "print((10 + 2) - 8)"
   ]
  },
  {
   "cell_type": "code",
   "execution_count": null,
   "id": "33f719cc",
   "metadata": {},
   "outputs": [],
   "source": []
  }
 ],
 "metadata": {
  "kernelspec": {
   "display_name": "Python 3 (ipykernel)",
   "language": "python",
   "name": "python3"
  },
  "language_info": {
   "codemirror_mode": {
    "name": "ipython",
    "version": 3
   },
   "file_extension": ".py",
   "mimetype": "text/x-python",
   "name": "python",
   "nbconvert_exporter": "python",
   "pygments_lexer": "ipython3",
   "version": "3.9.7"
  }
 },
 "nbformat": 4,
 "nbformat_minor": 5
}
