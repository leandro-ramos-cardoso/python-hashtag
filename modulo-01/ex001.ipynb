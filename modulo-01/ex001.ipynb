{
 "cells": [
  {
   "cell_type": "markdown",
   "id": "a04b06e3",
   "metadata": {},
   "source": [
    "## Primeiro código em Python\n",
    "\n",
    "#### Escrever na tela Olá, Mundo! "
   ]
  },
  {
   "cell_type": "code",
   "execution_count": 18,
   "id": "de6714b5",
   "metadata": {},
   "outputs": [
    {
     "name": "stdout",
     "output_type": "stream",
     "text": [
      "Olá, Mundo!\n"
     ]
    }
   ],
   "source": [
    "print('Olá, Mundo!')"
   ]
  }
 ],
 "metadata": {
  "kernelspec": {
   "display_name": "Python 3 (ipykernel)",
   "language": "python",
   "name": "python3"
  },
  "language_info": {
   "codemirror_mode": {
    "name": "ipython",
    "version": 3
   },
   "file_extension": ".py",
   "mimetype": "text/x-python",
   "name": "python",
   "nbconvert_exporter": "python",
   "pygments_lexer": "ipython3",
   "version": "3.9.7"
  }
 },
 "nbformat": 4,
 "nbformat_minor": 5
}
