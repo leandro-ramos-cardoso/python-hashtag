{
 "cells": [
  {
   "cell_type": "code",
   "execution_count": 8,
   "id": "e24f10a2",
   "metadata": {},
   "outputs": [
    {
     "name": "stdout",
     "output_type": "stream",
     "text": [
      "O faturamento da loja foi: 1000\n",
      "O faturamento da loja foi 1000\n",
      "O faturamento da loja foi:1000\n"
     ]
    },
    {
     "data": {
      "text/plain": [
       "int"
      ]
     },
     "execution_count": 8,
     "metadata": {},
     "output_type": "execute_result"
    }
   ],
   "source": [
    "faturamento = 1000\n",
    "\n",
    "print('O faturamento da loja foi:', faturamento)\n",
    "\n",
    "print('O faturamento da loja foi {}'.format(faturamento))\n",
    "\n",
    "print('O faturamento da loja foi:' + str(faturamento))\n",
    "\n",
    "type(faturamento)"
   ]
  },
  {
   "cell_type": "code",
   "execution_count": 20,
   "id": "f69b250e",
   "metadata": {},
   "outputs": [
    {
     "name": "stdout",
     "output_type": "stream",
     "text": [
      "O faturamento da empresa foi de R$ 2000.00\n",
      "O custo da empresa foi de R$ 500.00\n",
      "O lucro da empresa foi de R$ 1500.00\n"
     ]
    }
   ],
   "source": [
    "faturamento = 2000\n",
    "custo = 500\n",
    "lucro = faturamento - custo\n",
    "\n",
    "print('O faturamento da empresa ', end ='')\n",
    "print('foi de R$ {:.2f}'.format(faturamento))\n",
    "\n",
    "# print('O custo da empresa foi \\n de')\n",
    "\n",
    "print('O custo da empresa foi de R$ {:.2f}'.format(custo))\n",
    "\n",
    "print('O lucro da empresa foi de R$ {:.2f}'.format(lucro))"
   ]
  },
  {
   "cell_type": "markdown",
   "id": "3954d840",
   "metadata": {},
   "source": [
    "### Método format"
   ]
  },
  {
   "cell_type": "code",
   "execution_count": 27,
   "id": "7f1d4eb3",
   "metadata": {},
   "outputs": [
    {
     "name": "stdout",
     "output_type": "stream",
     "text": [
      "O faturamento da empresa foi R$ 2000.00, o custo R$ 500.00, assim o lucro foi de R$ 1500.00.\n"
     ]
    }
   ],
   "source": [
    "faturamento = 2000\n",
    "custo = 500\n",
    "lucro = faturamento - custo\n",
    "\n",
    "print('O faturamento da empresa foi ' , end = '')\n",
    "print('R$ {:.2f}, o custo R$ {:.2f}, assim o lucro foi de R$ {:.2f}.'.format(faturamento, custo, lucro))"
   ]
  },
  {
   "cell_type": "code",
   "execution_count": null,
   "id": "68c95f3b",
   "metadata": {},
   "outputs": [],
   "source": []
  }
 ],
 "metadata": {
  "kernelspec": {
   "display_name": "Python 3 (ipykernel)",
   "language": "python",
   "name": "python3"
  },
  "language_info": {
   "codemirror_mode": {
    "name": "ipython",
    "version": 3
   },
   "file_extension": ".py",
   "mimetype": "text/x-python",
   "name": "python",
   "nbconvert_exporter": "python",
   "pygments_lexer": "ipython3",
   "version": "3.9.7"
  }
 },
 "nbformat": 4,
 "nbformat_minor": 5
}
